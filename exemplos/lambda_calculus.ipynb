{
 "cells": [
  {
   "cell_type": "code",
   "execution_count": 4,
   "metadata": {},
   "outputs": [],
   "source": [
    "TRUE = lambda x: lambda y: x\n",
    "FALSE = lambda x: lambda y: y\n",
    "\n",
    "ZERO = lambda x: lambda y: y\n",
    "ONE = lambda x: lambda y: x(y)\n",
    "TWO = lambda x: lambda y: x(x(y))\n",
    "THREE = lambda x: lambda y: x(x(x(y)))\n",
    "\n",
    "to_int = lambda x: print(x(lambda y: y + 1)(0))\n",
    "#  λn.λf.λx.f (n f x)\n",
    "SUCC = lambda n: lambda f: lambda x: f(n(f)(x))\n",
    "#= λm.λn.λf.λx.m f (n f x)\n",
    "ADD = lambda m: lambda n: lambda f: lambda x: m(f)(n(f)(x))\n",
    "# λm.λn.m SUCC n\n",
    "# ADD = lambda m: lambda n: m(SUCC)(n)\n",
    "# λm.λn.λf.m (n f)\n",
    "MULT = lambda m: lambda n: lambda f: m(n(f))\n",
    "\n"
   ]
  }
 ],
 "metadata": {
  "kernelspec": {
   "display_name": "Python 3",
   "language": "python",
   "name": "python3"
  },
  "language_info": {
   "codemirror_mode": {
    "name": "ipython",
    "version": 3
   },
   "file_extension": ".py",
   "mimetype": "text/x-python",
   "name": "python",
   "nbconvert_exporter": "python",
   "pygments_lexer": "ipython3",
   "version": "3.6.9"
  }
 },
 "nbformat": 4,
 "nbformat_minor": 4
}
