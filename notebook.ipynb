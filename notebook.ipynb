{
 "cells": [
  {
   "cell_type": "markdown",
   "metadata": {},
   "source": [
    "# maerli"
   ]
  },
  {
   "cell_type": "code",
   "execution_count": 2,
   "metadata": {},
   "outputs": [
    {
     "name": "stdout",
     "output_type": "stream",
     "text": [
      "ok\n"
     ]
    }
   ],
   "source": [
    "import exemplos"
   ]
  },
  {
   "cell_type": "code",
   "execution_count": 3,
   "metadata": {},
   "outputs": [],
   "source": [
    "from diff.autodiff import var,df,const"
   ]
  },
  {
   "cell_type": "code",
   "execution_count": 25,
   "metadata": {},
   "outputs": [
    {
     "name": "stdout",
     "output_type": "stream",
     "text": [
      "100\n"
     ]
    }
   ],
   "source": [
    "#decoratos\n",
    "def decorator(f):\n",
    "    class NewClass(f):\n",
    "        attr = 100\n",
    "    return NewClass\n",
    "@decorator\n",
    "class X:\n",
    "    def getAttr(self):\n",
    "        return self.attr\n",
    "a = X()\n",
    "print(a.getAttr())"
   ]
  },
  {
   "cell_type": "code",
   "execution_count": 41,
   "metadata": {},
   "outputs": [
    {
     "name": "stdout",
     "output_type": "stream",
     "text": [
      "set in descriptor object\n",
      "returned from descriptor object\n",
      "10\n",
      "deleted in descriptor object\n"
     ]
    }
   ],
   "source": [
    "class Bar(object):\n",
    "    def __init__(self):\n",
    "        self.value = ''\n",
    "    def __get__(self, instance, owner):\n",
    "        print(\"returned from descriptor object\")\n",
    "        return self.value\n",
    "    def __set__(self, instance, value):\n",
    "        print(\"set in descriptor object\")\n",
    "        self.value = value\n",
    "    def __delete__(self, instance):\n",
    "        print(\"deleted in descriptor object\")\n",
    "        del self.value\n",
    "\n",
    "class Foo(object):\n",
    "    bar = Bar()\n",
    "\n",
    "f = Foo()\n",
    "f.bar = 10\n",
    "print(f.bar)\n",
    "del f.bar\n"
   ]
  },
  {
   "cell_type": "markdown",
   "metadata": {},
   "source": [
    "# criar uma aplicação de gradiente descentente"
   ]
  },
  {
   "cell_type": "code",
   "execution_count": 13,
   "metadata": {},
   "outputs": [
    {
     "ename": "SyntaxError",
     "evalue": "invalid syntax (<ipython-input-13-e848f4a4fa45>, line 1)",
     "output_type": "error",
     "traceback": [
      "\u001b[0;36m  File \u001b[0;32m\"<ipython-input-13-e848f4a4fa45>\"\u001b[0;36m, line \u001b[0;32m1\u001b[0m\n\u001b[0;31m    {qual o valor de $x$ para $f \\prime (x) = 0$}\u001b[0m\n\u001b[0m          ^\u001b[0m\n\u001b[0;31mSyntaxError\u001b[0m\u001b[0;31m:\u001b[0m invalid syntax\n"
     ]
    }
   ],
   "source": [
    "{qual o valor de $x$ para $f \\prime (x) = 0$}"
   ]
  }
 ],
 "metadata": {
  "kernelspec": {
   "display_name": "Python 3",
   "language": "python",
   "name": "python3"
  },
  "language_info": {
   "codemirror_mode": {
    "name": "ipython",
    "version": 3
   },
   "file_extension": ".py",
   "mimetype": "text/x-python",
   "name": "python",
   "nbconvert_exporter": "python",
   "pygments_lexer": "ipython3",
   "version": "3.6.9"
  }
 },
 "nbformat": 4,
 "nbformat_minor": 4
}
